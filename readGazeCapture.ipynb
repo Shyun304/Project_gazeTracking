{
 "cells": [
  {
   "cell_type": "code",
   "execution_count": 1,
   "metadata": {},
   "outputs": [],
   "source": [
    "import scipy.io\n",
    "import matplotlib.pyplot as plt\n",
    "import matplotlib.image as mpimg\n",
    "import numpy as np\n",
    "import cv2\n",
    "import pandas as pd\n",
    "import json"
   ]
  },
  {
   "cell_type": "code",
   "execution_count": 2,
   "metadata": {},
   "outputs": [],
   "source": [
    "motion_path = \"./GazeCapture/00002/motion.json\""
   ]
  },
  {
   "cell_type": "code",
   "execution_count": 3,
   "metadata": {},
   "outputs": [],
   "source": [
    "with open(motion_path, 'r') as file:\n",
    "    data = json.load(file)\n",
    "    # print(type(data))\n",
    "    # print(data)"
   ]
  },
  {
   "cell_type": "code",
   "execution_count": 10,
   "metadata": {},
   "outputs": [
    {
     "name": "stdout",
     "output_type": "stream",
     "text": [
      "GravityX\n",
      "UserAcceleration\n",
      "AttitudeRotationMatrix\n",
      "AttitudePitch\n",
      "Time\n",
      "AttitudeQuaternion\n",
      "AttitudeRoll\n",
      "RotationRate\n",
      "AttitudeYaw\n",
      "DotNum\n"
     ]
    }
   ],
   "source": [
    "index = 2\n",
    "for header in data[index]:\n",
    "    print(header)"
   ]
  },
  {
   "cell_type": "code",
   "execution_count": null,
   "metadata": {},
   "outputs": [],
   "source": [
    "data[0]"
   ]
  },
  {
   "cell_type": "code",
   "execution_count": null,
   "metadata": {},
   "outputs": [],
   "source": []
  }
 ],
 "metadata": {
  "interpreter": {
   "hash": "245b705f1caafef0942c77fcc7397c4db4a81512f62458d4b6d327724dd6dc21"
  },
  "kernelspec": {
   "display_name": "Python 3.8.13 ('gaze')",
   "language": "python",
   "name": "python3"
  },
  "language_info": {
   "codemirror_mode": {
    "name": "ipython",
    "version": 3
   },
   "file_extension": ".py",
   "mimetype": "text/x-python",
   "name": "python",
   "nbconvert_exporter": "python",
   "pygments_lexer": "ipython3",
   "version": "3.8.13"
  },
  "orig_nbformat": 4
 },
 "nbformat": 4,
 "nbformat_minor": 2
}
